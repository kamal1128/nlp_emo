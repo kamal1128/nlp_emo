{
 "cells": [
  {
   "cell_type": "code",
   "execution_count": null,
   "id": "86cb0f67",
   "metadata": {},
   "outputs": [],
   "source": [
    "import numpy as np \n",
    "import pandas as pd \n",
    "import matplotlib.pyplot as plt\n",
    "import seaborn as sns\n",
    "import warnings\n",
    "warnings.filterwarnings(\"ignore\")"
   ]
  },
  {
   "cell_type": "code",
   "execution_count": 44,
   "id": "275c9d8e",
   "metadata": {},
   "outputs": [
    {
     "data": {
      "text/html": [
       "<div>\n",
       "<style scoped>\n",
       "    .dataframe tbody tr th:only-of-type {\n",
       "        vertical-align: middle;\n",
       "    }\n",
       "\n",
       "    .dataframe tbody tr th {\n",
       "        vertical-align: top;\n",
       "    }\n",
       "\n",
       "    .dataframe thead th {\n",
       "        text-align: right;\n",
       "    }\n",
       "</style>\n",
       "<table border=\"1\" class=\"dataframe\">\n",
       "  <thead>\n",
       "    <tr style=\"text-align: right;\">\n",
       "      <th></th>\n",
       "      <th>text</th>\n",
       "      <th>emotion</th>\n",
       "    </tr>\n",
       "  </thead>\n",
       "  <tbody>\n",
       "    <tr>\n",
       "      <th>0</th>\n",
       "      <td>i didnt feel humiliated</td>\n",
       "      <td>sadness</td>\n",
       "    </tr>\n",
       "    <tr>\n",
       "      <th>1</th>\n",
       "      <td>i can go from feeling so hopeless to so damned...</td>\n",
       "      <td>sadness</td>\n",
       "    </tr>\n",
       "    <tr>\n",
       "      <th>2</th>\n",
       "      <td>im grabbing a minute to post i feel greedy wrong</td>\n",
       "      <td>anger</td>\n",
       "    </tr>\n",
       "    <tr>\n",
       "      <th>3</th>\n",
       "      <td>i am ever feeling nostalgic about the fireplac...</td>\n",
       "      <td>love</td>\n",
       "    </tr>\n",
       "    <tr>\n",
       "      <th>4</th>\n",
       "      <td>i am feeling grouchy</td>\n",
       "      <td>anger</td>\n",
       "    </tr>\n",
       "  </tbody>\n",
       "</table>\n",
       "</div>"
      ],
      "text/plain": [
       "                                                text  emotion\n",
       "0                            i didnt feel humiliated  sadness\n",
       "1  i can go from feeling so hopeless to so damned...  sadness\n",
       "2   im grabbing a minute to post i feel greedy wrong    anger\n",
       "3  i am ever feeling nostalgic about the fireplac...     love\n",
       "4                               i am feeling grouchy    anger"
      ]
     },
     "execution_count": 44,
     "metadata": {},
     "output_type": "execute_result"
    }
   ],
   "source": [
    "df = pd.read_csv('train.txt', sep = ';',header = None,names = ['text','emotion'])\n",
    "df.head()"
   ]
  },
  {
   "cell_type": "code",
   "execution_count": 45,
   "id": "01061d51",
   "metadata": {},
   "outputs": [
    {
     "data": {
      "text/plain": [
       "<Axes: xlabel='emotion'>"
      ]
     },
     "execution_count": 45,
     "metadata": {},
     "output_type": "execute_result"
    },
    {
     "data": {
      "image/png": "[encoded data removed]",
      "text/plain": [
       "<Figure size 640x480 with 1 Axes>"
      ]
     },
     "metadata": {},
     "output_type": "display_data"
    }
   ],
   "source": [
    "df['emotion'].value_counts().plot(kind = 'bar')"
   ]
  },
  {
   "cell_type": "code",
   "execution_count": 46,
   "id": "8bf152f2",
   "metadata": {},
   "outputs": [
    {
     "data": {
      "text/plain": [
       "array(['sadness', 'anger', 'love', 'surprise', 'fear', 'joy'],\n",
       "      dtype=object)"
      ]
     },
     "execution_count": 46,
     "metadata": {},
     "output_type": "execute_result"
    }
   ],
   "source": [
    "df['emotion'].unique()"
   ]
  },
  {
   "cell_type": "code",
   "execution_count": 47,
   "id": "756e45b9",
   "metadata": {},
   "outputs": [
    {
     "data": {
      "text/html": [
       "<div>\n",
       "<style scoped>\n",
       "    .dataframe tbody tr th:only-of-type {\n",
       "        vertical-align: middle;\n",
       "    }\n",
       "\n",
       "    .dataframe tbody tr th {\n",
       "        vertical-align: top;\n",
       "    }\n",
       "\n",
       "    .dataframe thead th {\n",
       "        text-align: right;\n",
       "    }\n",
       "</style>\n",
       "<table border=\"1\" class=\"dataframe\">\n",
       "  <thead>\n",
       "    <tr style=\"text-align: right;\">\n",
       "      <th></th>\n",
       "      <th>text</th>\n",
       "      <th>emotion</th>\n",
       "    </tr>\n",
       "  </thead>\n",
       "  <tbody>\n",
       "    <tr>\n",
       "      <th>0</th>\n",
       "      <td>i didnt feel humiliated</td>\n",
       "      <td>0</td>\n",
       "    </tr>\n",
       "    <tr>\n",
       "      <th>1</th>\n",
       "      <td>i can go from feeling so hopeless to so damned...</td>\n",
       "      <td>0</td>\n",
       "    </tr>\n",
       "    <tr>\n",
       "      <th>2</th>\n",
       "      <td>im grabbing a minute to post i feel greedy wrong</td>\n",
       "      <td>1</td>\n",
       "    </tr>\n",
       "    <tr>\n",
       "      <th>3</th>\n",
       "      <td>i am ever feeling nostalgic about the fireplac...</td>\n",
       "      <td>2</td>\n",
       "    </tr>\n",
       "    <tr>\n",
       "      <th>4</th>\n",
       "      <td>i am feeling grouchy</td>\n",
       "      <td>1</td>\n",
       "    </tr>\n",
       "  </tbody>\n",
       "</table>\n",
       "</div>"
      ],
      "text/plain": [
       "                                                text  emotion\n",
       "0                            i didnt feel humiliated        0\n",
       "1  i can go from feeling so hopeless to so damned...        0\n",
       "2   im grabbing a minute to post i feel greedy wrong        1\n",
       "3  i am ever feeling nostalgic about the fireplac...        2\n",
       "4                               i am feeling grouchy        1"
      ]
     },
     "execution_count": 47,
     "metadata": {},
     "output_type": "execute_result"
    }
   ],
   "source": [
    "dici = {'sadness':0,'anger':1,'love':2,'surprise':3,'fear':4,'joy':5}\n",
    "df['emotion'] = df['emotion'].map(dici)\n",
    "df.head()\n"
   ]
  },
  {
   "cell_type": "code",
   "execution_count": 48,
   "id": "8f845b54",
   "metadata": {},
   "outputs": [
    {
     "data": {
      "text/html": [
       "<div>\n",
       "<style scoped>\n",
       "    .dataframe tbody tr th:only-of-type {\n",
       "        vertical-align: middle;\n",
       "    }\n",
       "\n",
       "    .dataframe tbody tr th {\n",
       "        vertical-align: top;\n",
       "    }\n",
       "\n",
       "    .dataframe thead th {\n",
       "        text-align: right;\n",
       "    }\n",
       "</style>\n",
       "<table border=\"1\" class=\"dataframe\">\n",
       "  <thead>\n",
       "    <tr style=\"text-align: right;\">\n",
       "      <th></th>\n",
       "      <th>text</th>\n",
       "      <th>emotion</th>\n",
       "    </tr>\n",
       "  </thead>\n",
       "  <tbody>\n",
       "    <tr>\n",
       "      <th>0</th>\n",
       "      <td>i didnt feel humiliated</td>\n",
       "      <td>0</td>\n",
       "    </tr>\n",
       "    <tr>\n",
       "      <th>1</th>\n",
       "      <td>i can go from feeling so hopeless to so damned...</td>\n",
       "      <td>0</td>\n",
       "    </tr>\n",
       "    <tr>\n",
       "      <th>2</th>\n",
       "      <td>im grabbing a minute to post i feel greedy wrong</td>\n",
       "      <td>1</td>\n",
       "    </tr>\n",
       "    <tr>\n",
       "      <th>3</th>\n",
       "      <td>i am ever feeling nostalgic about the fireplac...</td>\n",
       "      <td>2</td>\n",
       "    </tr>\n",
       "    <tr>\n",
       "      <th>4</th>\n",
       "      <td>i am feeling grouchy</td>\n",
       "      <td>1</td>\n",
       "    </tr>\n",
       "  </tbody>\n",
       "</table>\n",
       "</div>"
      ],
      "text/plain": [
       "                                                text  emotion\n",
       "0                            i didnt feel humiliated        0\n",
       "1  i can go from feeling so hopeless to so damned...        0\n",
       "2   im grabbing a minute to post i feel greedy wrong        1\n",
       "3  i am ever feeling nostalgic about the fireplac...        2\n",
       "4                               i am feeling grouchy        1"
      ]
     },
     "execution_count": 48,
     "metadata": {},
     "output_type": "execute_result"
    }
   ],
   "source": [
    "df['text'] = df['text'].apply(lambda x : x.lower())\n",
    "df.head()\n"
   ]
  },
  {
   "cell_type": "code",
   "execution_count": 49,
   "id": "9ad2e85b",
   "metadata": {},
   "outputs": [],
   "source": [
    "\n",
    "import string\n",
    "\n",
    "def remove_punc(txt):\n",
    "  return txt.translate(str.maketrans('','',string.punctuation))"
   ]
  },
  {
   "cell_type": "code",
   "execution_count": 50,
   "id": "56443701",
   "metadata": {},
   "outputs": [
    {
     "data": {
      "text/html": [
       "<div>\n",
       "<style scoped>\n",
       "    .dataframe tbody tr th:only-of-type {\n",
       "        vertical-align: middle;\n",
       "    }\n",
       "\n",
       "    .dataframe tbody tr th {\n",
       "        vertical-align: top;\n",
       "    }\n",
       "\n",
       "    .dataframe thead th {\n",
       "        text-align: right;\n",
       "    }\n",
       "</style>\n",
       "<table border=\"1\" class=\"dataframe\">\n",
       "  <thead>\n",
       "    <tr style=\"text-align: right;\">\n",
       "      <th></th>\n",
       "      <th>text</th>\n",
       "      <th>emotion</th>\n",
       "    </tr>\n",
       "  </thead>\n",
       "  <tbody>\n",
       "    <tr>\n",
       "      <th>0</th>\n",
       "      <td>i didnt feel humiliated</td>\n",
       "      <td>0</td>\n",
       "    </tr>\n",
       "    <tr>\n",
       "      <th>1</th>\n",
       "      <td>i can go from feeling so hopeless to so damned...</td>\n",
       "      <td>0</td>\n",
       "    </tr>\n",
       "    <tr>\n",
       "      <th>2</th>\n",
       "      <td>im grabbing a minute to post i feel greedy wrong</td>\n",
       "      <td>1</td>\n",
       "    </tr>\n",
       "    <tr>\n",
       "      <th>3</th>\n",
       "      <td>i am ever feeling nostalgic about the fireplac...</td>\n",
       "      <td>2</td>\n",
       "    </tr>\n",
       "    <tr>\n",
       "      <th>4</th>\n",
       "      <td>i am feeling grouchy</td>\n",
       "      <td>1</td>\n",
       "    </tr>\n",
       "  </tbody>\n",
       "</table>\n",
       "</div>"
      ],
      "text/plain": [
       "                                                text  emotion\n",
       "0                            i didnt feel humiliated        0\n",
       "1  i can go from feeling so hopeless to so damned...        0\n",
       "2   im grabbing a minute to post i feel greedy wrong        1\n",
       "3  i am ever feeling nostalgic about the fireplac...        2\n",
       "4                               i am feeling grouchy        1"
      ]
     },
     "execution_count": 50,
     "metadata": {},
     "output_type": "execute_result"
    }
   ],
   "source": [
    "df['text'] = df['text'].apply(remove_punc)\n",
    "df.head()"
   ]
  },
  {
   "cell_type": "code",
   "execution_count": 51,
   "id": "43df1330",
   "metadata": {},
   "outputs": [],
   "source": [
    "def remove_numbers(txt):\n",
    "    new = \"\"\n",
    "    for i in txt:\n",
    "        if not i.isdigit():\n",
    "            new = new + i\n",
    "    return new\n",
    "\n",
    "df['text'] = df['text'].apply(remove_numbers)"
   ]
  },
  {
   "cell_type": "code",
   "execution_count": 52,
   "id": "46df98ea",
   "metadata": {},
   "outputs": [],
   "source": [
    "def remove_numbers(txt):\n",
    "    new = \"\"\n",
    "    for i in txt:\n",
    "        if not i.isdigit():\n",
    "            new = new + i\n",
    "    return new\n",
    "\n",
    "df['text'] = df['text'].apply(remove_numbers)"
   ]
  },
  {
   "cell_type": "code",
   "execution_count": 53,
   "id": "1326786c",
   "metadata": {},
   "outputs": [],
   "source": [
    "import nltk"
   ]
  },
  {
   "cell_type": "code",
   "execution_count": 54,
   "id": "7898613d",
   "metadata": {},
   "outputs": [],
   "source": [
    "from nltk.corpus import stopwords\n",
    "from nltk.tokenize import word_tokenize"
   ]
  },
  {
   "cell_type": "code",
   "execution_count": 55,
   "id": "62f9d98b",
   "metadata": {},
   "outputs": [
    {
     "name": "stderr",
     "output_type": "stream",
     "text": [
      "[nltk_data] Downloading package punkt to\n",
      "[nltk_data]     C:\\Users\\kamal\\AppData\\Roaming\\nltk_data...\n",
      "[nltk_data]   Package punkt is already up-to-date!\n",
      "[nltk_data] Downloading package stopwords to\n",
      "[nltk_data]     C:\\Users\\kamal\\AppData\\Roaming\\nltk_data...\n",
      "[nltk_data]   Package stopwords is already up-to-date!\n"
     ]
    },
    {
     "data": {
      "text/plain": [
       "True"
      ]
     },
     "execution_count": 55,
     "metadata": {},
     "output_type": "execute_result"
    }
   ],
   "source": [
    "nltk.download('punkt')\n",
    "nltk.download('stopwords')"
   ]
  },
  {
   "cell_type": "code",
   "execution_count": 74,
   "id": "b545696c",
   "metadata": {},
   "outputs": [],
   "source": [
    "stop_words = set(stopwords.words('english'))\n"
   ]
  },
  {
   "cell_type": "code",
   "execution_count": 57,
   "id": "0caa736c",
   "metadata": {},
   "outputs": [
    {
     "data": {
      "text/plain": [
       "'i can go from feeling so hopeless to so damned hopeful just from being around someone who cares and is awake'"
      ]
     },
     "execution_count": 57,
     "metadata": {},
     "output_type": "execute_result"
    }
   ],
   "source": [
    "df.loc[1]['text']"
   ]
  },
  {
   "cell_type": "code",
   "execution_count": 58,
   "id": "ef1c2de2",
   "metadata": {},
   "outputs": [],
   "source": [
    "def remove(txt):\n",
    "  words = txt.split()\n",
    "  cleaned = []\n",
    "  for i in words:\n",
    "    if not i in stop_words:\n",
    "      cleaned.append(i)\n",
    "\n",
    "  return ' '.join(cleaned)"
   ]
  },
  {
   "cell_type": "code",
   "execution_count": 59,
   "id": "167a5590",
   "metadata": {},
   "outputs": [],
   "source": [
    "df['text'] = df['text'].apply(remove)"
   ]
  },
  {
   "cell_type": "code",
   "execution_count": 60,
   "id": "1dffc1bc",
   "metadata": {},
   "outputs": [
    {
     "data": {
      "text/plain": [
       "'go feeling hopeless damned hopeful around someone cares awake'"
      ]
     },
     "execution_count": 60,
     "metadata": {},
     "output_type": "execute_result"
    }
   ],
   "source": [
    "df.loc[1]['text']"
   ]
  },
  {
   "cell_type": "code",
   "execution_count": 61,
   "id": "3f751bb5",
   "metadata": {},
   "outputs": [
    {
     "data": {
      "text/html": [
       "<div>\n",
       "<style scoped>\n",
       "    .dataframe tbody tr th:only-of-type {\n",
       "        vertical-align: middle;\n",
       "    }\n",
       "\n",
       "    .dataframe tbody tr th {\n",
       "        vertical-align: top;\n",
       "    }\n",
       "\n",
       "    .dataframe thead th {\n",
       "        text-align: right;\n",
       "    }\n",
       "</style>\n",
       "<table border=\"1\" class=\"dataframe\">\n",
       "  <thead>\n",
       "    <tr style=\"text-align: right;\">\n",
       "      <th></th>\n",
       "      <th>text</th>\n",
       "      <th>emotion</th>\n",
       "    </tr>\n",
       "  </thead>\n",
       "  <tbody>\n",
       "    <tr>\n",
       "      <th>0</th>\n",
       "      <td>didnt feel humiliated</td>\n",
       "      <td>0</td>\n",
       "    </tr>\n",
       "    <tr>\n",
       "      <th>1</th>\n",
       "      <td>go feeling hopeless damned hopeful around some...</td>\n",
       "      <td>0</td>\n",
       "    </tr>\n",
       "    <tr>\n",
       "      <th>2</th>\n",
       "      <td>im grabbing minute post feel greedy wrong</td>\n",
       "      <td>1</td>\n",
       "    </tr>\n",
       "    <tr>\n",
       "      <th>3</th>\n",
       "      <td>ever feeling nostalgic fireplace know still pr...</td>\n",
       "      <td>2</td>\n",
       "    </tr>\n",
       "    <tr>\n",
       "      <th>4</th>\n",
       "      <td>feeling grouchy</td>\n",
       "      <td>1</td>\n",
       "    </tr>\n",
       "  </tbody>\n",
       "</table>\n",
       "</div>"
      ],
      "text/plain": [
       "                                                text  emotion\n",
       "0                              didnt feel humiliated        0\n",
       "1  go feeling hopeless damned hopeful around some...        0\n",
       "2          im grabbing minute post feel greedy wrong        1\n",
       "3  ever feeling nostalgic fireplace know still pr...        2\n",
       "4                                    feeling grouchy        1"
      ]
     },
     "execution_count": 61,
     "metadata": {},
     "output_type": "execute_result"
    }
   ],
   "source": [
    "df.head()"
   ]
  },
  {
   "cell_type": "code",
   "execution_count": 75,
   "id": "6676623c",
   "metadata": {},
   "outputs": [],
   "source": [
    "from sklearn.model_selection import train_test_split\n",
    "X = df['text']\n",
    "y = df['emotion']\n",
    "X_train, X_test, y_train, y_test = train_test_split(X, y, test_size=0.2, random_state=42)"
   ]
  },
  {
   "cell_type": "code",
   "execution_count": null,
   "id": "b3e491a9",
   "metadata": {},
   "outputs": [],
   "source": [
    "from sklearn.feature_extraction.text import TfidfVectorizer,CountVectorizer\n",
    "\n",
    "tfidf = TfidfVectorizer()\n",
    "X_train_tf = tfidf.fit_transform(X_train)\n",
    "X_test_tf = tfidf.transform(X_test)\n",
    "\n",
    "\n",
    "count = CountVectorizer()\n",
    "X_train_count = count.fit_transform(X_train)\n",
    "X_test_count = count.transform(X_test)"
   ]
  },
  {
   "cell_type": "markdown",
   "id": "a2111135",
   "metadata": {},
   "source": [
    "Naive bayes"
   ]
  },
  {
   "cell_type": "code",
   "execution_count": 77,
   "id": "4049996b",
   "metadata": {},
   "outputs": [
    {
     "name": "stdout",
     "output_type": "stream",
     "text": [
      "TF-IDF Model\n",
      "Accuracy: 0.6609375\n",
      "Confusion Matrix:\n",
      " [[ 883    0    0    0    2   61]\n",
      " [ 145  123    0    0    2  157]\n",
      " [  48    1    9    0    1  237]\n",
      " [  41    0    0    1    3   68]\n",
      " [ 137    8    0    0   88  164]\n",
      " [  10    0    0    0    0 1011]]\n",
      "Classification Report:\n",
      "               precision    recall  f1-score   support\n",
      "\n",
      "           0       0.70      0.93      0.80       946\n",
      "           1       0.93      0.29      0.44       427\n",
      "           2       1.00      0.03      0.06       296\n",
      "           3       1.00      0.01      0.02       113\n",
      "           4       0.92      0.22      0.36       397\n",
      "           5       0.60      0.99      0.74      1021\n",
      "\n",
      "    accuracy                           0.66      3200\n",
      "   macro avg       0.86      0.41      0.40      3200\n",
      "weighted avg       0.76      0.66      0.58      3200\n",
      "\n"
     ]
    }
   ],
   "source": [
    "from sklearn.naive_bayes import MultinomialNB \n",
    "from sklearn.metrics import accuracy_score,confusion_matrix,classification_report\n",
    "\n",
    "NB_model_tfidf = MultinomialNB()\n",
    "NB_model_tfidf.fit(X_train_tf, y_train)\n",
    "\n",
    "y_pred_tfidf = NB_model_tfidf.predict(X_test_tf)\n",
    "\n",
    "print(\"TF-IDF Model\")\n",
    "print(\"Accuracy:\", accuracy_score(y_test, y_pred_tfidf))\n",
    "print(\"Confusion Matrix:\\n\", confusion_matrix(y_test, y_pred_tfidf))\n",
    "print(\"Classification Report:\\n\", classification_report(y_test, y_pred_tfidf))\n"
   ]
  },
  {
   "cell_type": "code",
   "execution_count": 78,
   "id": "d822c39b",
   "metadata": {},
   "outputs": [
    {
     "name": "stdout",
     "output_type": "stream",
     "text": [
      "Count Vectorizer Model\n",
      "Accuracy: 0.768125\n",
      "Confusion Matrix:\n",
      " [[899   8   3   0   4  32]\n",
      " [ 87 271   0   0  13  56]\n",
      " [ 51   6  79   0   4 156]\n",
      " [ 40   0   1   6  17  49]\n",
      " [ 87  15   0   0 226  69]\n",
      " [ 36   4   2   0   2 977]]\n",
      "Classification Report:\n",
      "               precision    recall  f1-score   support\n",
      "\n",
      "           0       0.75      0.95      0.84       946\n",
      "           1       0.89      0.63      0.74       427\n",
      "           2       0.93      0.27      0.41       296\n",
      "           3       1.00      0.05      0.10       113\n",
      "           4       0.85      0.57      0.68       397\n",
      "           5       0.73      0.96      0.83      1021\n",
      "\n",
      "    accuracy                           0.77      3200\n",
      "   macro avg       0.86      0.57      0.60      3200\n",
      "weighted avg       0.80      0.77      0.74      3200\n",
      "\n"
     ]
    }
   ],
   "source": [
    "NB_model_count = MultinomialNB()\n",
    "NB_model_count.fit(X_train_count, y_train)\n",
    "\n",
    "y_pred_count = NB_model_count.predict(X_test_count)\n",
    "\n",
    "print(\"Count Vectorizer Model\")\n",
    "print(\"Accuracy:\", accuracy_score(y_test, y_pred_count))\n",
    "print(\"Confusion Matrix:\\n\", confusion_matrix(y_test, y_pred_count))\n",
    "print(\"Classification Report:\\n\", classification_report(y_test, y_pred_count))\n"
   ]
  },
  {
   "cell_type": "markdown",
   "id": "7ea40c9c",
   "metadata": {},
   "source": [
    "Logistic Regression"
   ]
  },
  {
   "cell_type": "code",
   "execution_count": 86,
   "id": "7fa0c071",
   "metadata": {},
   "outputs": [
    {
     "name": "stdout",
     "output_type": "stream",
     "text": [
      "TF-IDF Model\n",
      "Accuracy: 0.8628125\n",
      "Confusion Matrix:\n",
      " [[893  13   1   0   7  32]\n",
      " [ 30 347   1   0  12  37]\n",
      " [ 12   5 182   0   4  93]\n",
      " [ 15   0   1  53  24  20]\n",
      " [ 24  17   1   7 302  46]\n",
      " [ 15   2  17   0   3 984]]\n",
      "Classification Report:\n",
      "               precision    recall  f1-score   support\n",
      "\n",
      "           0       0.90      0.94      0.92       946\n",
      "           1       0.90      0.81      0.86       427\n",
      "           2       0.90      0.61      0.73       296\n",
      "           3       0.88      0.47      0.61       113\n",
      "           4       0.86      0.76      0.81       397\n",
      "           5       0.81      0.96      0.88      1021\n",
      "\n",
      "    accuracy                           0.86      3200\n",
      "   macro avg       0.88      0.76      0.80      3200\n",
      "weighted avg       0.87      0.86      0.86      3200\n",
      "\n"
     ]
    }
   ],
   "source": [
    "from sklearn.linear_model import LogisticRegression\n",
    "\n",
    "LR_model_tfidf = LogisticRegression(max_iter=1000)\n",
    "LR_model_tfidf.fit(X_train_tf, y_train)\n",
    "\n",
    "y_pred_tfidf = LR_model_tfidf.predict(X_test_tf)\n",
    "\n",
    "print(\"TF-IDF Model\")\n",
    "print(\"Accuracy:\", accuracy_score(y_test, y_pred_tfidf))\n",
    "print(\"Confusion Matrix:\\n\", confusion_matrix(y_test, y_pred_tfidf))\n",
    "print(\"Classification Report:\\n\", classification_report(y_test, y_pred_tfidf))\n"
   ]
  },
  {
   "cell_type": "code",
   "execution_count": 85,
   "id": "458796a6",
   "metadata": {},
   "outputs": [
    {
     "name": "stdout",
     "output_type": "stream",
     "text": [
      "Count Vectorizer Model\n",
      "Accuracy: 0.8896875\n",
      "Confusion Matrix:\n",
      " [[879  24   7   1  13  22]\n",
      " [ 24 366   0   2  15  20]\n",
      " [  5   2 225   1   4  59]\n",
      " [  5   0   1  82  19   6]\n",
      " [ 19  16   2   7 332  21]\n",
      " [ 16   5  31   2   4 963]]\n",
      "Classification Report:\n",
      "               precision    recall  f1-score   support\n",
      "\n",
      "           0       0.93      0.93      0.93       946\n",
      "           1       0.89      0.86      0.87       427\n",
      "           2       0.85      0.76      0.80       296\n",
      "           3       0.86      0.73      0.79       113\n",
      "           4       0.86      0.84      0.85       397\n",
      "           5       0.88      0.94      0.91      1021\n",
      "\n",
      "    accuracy                           0.89      3200\n",
      "   macro avg       0.88      0.84      0.86      3200\n",
      "weighted avg       0.89      0.89      0.89      3200\n",
      "\n"
     ]
    }
   ],
   "source": [
    "LR_model_count = LogisticRegression(max_iter=1000)\n",
    "LR_model_count.fit(X_train_count, y_train)\n",
    "y_pred_count = LR_model_count.predict(X_test_count)\n",
    "\n",
    "print(\"Count Vectorizer Model\")\n",
    "print(\"Accuracy:\", accuracy_score(y_test, y_pred_count))\n",
    "print(\"Confusion Matrix:\\n\", confusion_matrix(y_test, y_pred_count))\n",
    "print(\"Classification Report:\\n\", classification_report(y_test, y_pred_count))\n"
   ]
  },
  {
   "cell_type": "markdown",
   "id": "a04065a7",
   "metadata": {},
   "source": [
    "SVM"
   ]
  },
  {
   "cell_type": "code",
   "execution_count": 84,
   "id": "7b06ac37",
   "metadata": {},
   "outputs": [
    {
     "name": "stdout",
     "output_type": "stream",
     "text": [
      "TF-IDF Model\n",
      "Accuracy: 0.8715625\n",
      "Confusion Matrix:\n",
      " [[874  21   7   2  19  23]\n",
      " [ 24 367   2   0  13  21]\n",
      " [  8   4 196   0   2  86]\n",
      " [  8   0   1  59  25  20]\n",
      " [ 22  17   2   8 327  21]\n",
      " [ 26   3  17   1   8 966]]\n",
      "Classification Report:\n",
      "               precision    recall  f1-score   support\n",
      "\n",
      "           0       0.91      0.92      0.92       946\n",
      "           1       0.89      0.86      0.87       427\n",
      "           2       0.87      0.66      0.75       296\n",
      "           3       0.84      0.52      0.64       113\n",
      "           4       0.83      0.82      0.83       397\n",
      "           5       0.85      0.95      0.90      1021\n",
      "\n",
      "    accuracy                           0.87      3200\n",
      "   macro avg       0.87      0.79      0.82      3200\n",
      "weighted avg       0.87      0.87      0.87      3200\n",
      "\n"
     ]
    }
   ],
   "source": [
    "from sklearn.svm import SVC\n",
    "SVM_model_tfidf = SVC(max_iter=1000)\n",
    "SVM_model_tfidf.fit(X_train_tf, y_train)\n",
    "\n",
    "y_pred_tfidf = SVM_model_tfidf.predict(X_test_tf)\n",
    "\n",
    "print(\"TF-IDF Model\")\n",
    "print(\"Accuracy:\", accuracy_score(y_test, y_pred_tfidf))\n",
    "print(\"Confusion Matrix:\\n\", confusion_matrix(y_test, y_pred_tfidf))\n",
    "print(\"Classification Report:\\n\", classification_report(y_test, y_pred_tfidf))\n"
   ]
  },
  {
   "cell_type": "code",
   "execution_count": 83,
   "id": "9f0a971e",
   "metadata": {},
   "outputs": [
    {
     "name": "stdout",
     "output_type": "stream",
     "text": [
      "Count Vectorizer Model\n",
      "Accuracy: 0.8628125\n",
      "Confusion Matrix:\n",
      " [[859  29   7   2  20  29]\n",
      " [ 25 366   1   0  13  22]\n",
      " [ 11   3 195   0   3  84]\n",
      " [ 13   1   1  54  25  19]\n",
      " [ 19  18   2   6 332  20]\n",
      " [ 31   5  19   2   9 955]]\n",
      "Classification Report:\n",
      "               precision    recall  f1-score   support\n",
      "\n",
      "           0       0.90      0.91      0.90       946\n",
      "           1       0.87      0.86      0.86       427\n",
      "           2       0.87      0.66      0.75       296\n",
      "           3       0.84      0.48      0.61       113\n",
      "           4       0.83      0.84      0.83       397\n",
      "           5       0.85      0.94      0.89      1021\n",
      "\n",
      "    accuracy                           0.86      3200\n",
      "   macro avg       0.86      0.78      0.81      3200\n",
      "weighted avg       0.86      0.86      0.86      3200\n",
      "\n"
     ]
    }
   ],
   "source": [
    "SVM_model_count = SVC(max_iter=1000)\n",
    "SVM_model_count.fit(X_train_count, y_train)\n",
    "\n",
    "y_pred_count = SVM_model_count.predict(X_test_count)\n",
    "\n",
    "print(\"Count Vectorizer Model\")\n",
    "print(\"Accuracy:\", accuracy_score(y_test, y_pred_count))\n",
    "print(\"Confusion Matrix:\\n\", confusion_matrix(y_test, y_pred_count))\n",
    "print(\"Classification Report:\\n\", classification_report(y_test, y_pred_count))\n"
   ]
  },
  {
   "cell_type": "code",
   "execution_count": null,
   "id": "2afcc944",
   "metadata": {},
   "outputs": [],
   "source": []
  },
  {
   "cell_type": "code",
   "execution_count": null,
   "id": "020ee6b8",
   "metadata": {},
   "outputs": [],
   "source": []
  },
  {
   "cell_type": "code",
   "execution_count": null,
   "id": "8f1f7ea9",
   "metadata": {},
   "outputs": [],
   "source": []
  },
  {
   "cell_type": "code",
   "execution_count": null,
   "id": "ec2b3f9f",
   "metadata": {},
   "outputs": [],
   "source": []
  },
  {
   "cell_type": "code",
   "execution_count": null,
   "id": "90e03622",
   "metadata": {},
   "outputs": [],
   "source": []
  }
 ],
 "metadata": {
  "kernelspec": {
   "display_name": "Python 3",
   "language": "python",
   "name": "python3"
  },
  "language_info": {
   "codemirror_mode": {
    "name": "ipython",
    "version": 3
   },
   "file_extension": ".py",
   "mimetype": "text/x-python",
   "name": "python",
   "nbconvert_exporter": "python",
   "pygments_lexer": "ipython3",
   "version": "3.13.2"
  }
 },
 "nbformat": 4,
 "nbformat_minor": 5
}
